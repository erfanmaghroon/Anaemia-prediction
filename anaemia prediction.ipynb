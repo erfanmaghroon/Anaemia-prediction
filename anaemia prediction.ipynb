{
 "cells": [
  {
   "cell_type": "markdown",
   "metadata": {},
   "source": [
    "importing liberies"
   ]
  },
  {
   "cell_type": "code",
   "execution_count": 2,
   "metadata": {},
   "outputs": [],
   "source": [
    "import pandas as pd\n",
    "import numpy as np \n",
    "import matplotlib.pyplot as plt \n",
    "import seaborn as sns \n",
    "import joblib "
   ]
  },
  {
   "cell_type": "markdown",
   "metadata": {},
   "source": [
    "importing data\n"
   ]
  },
  {
   "cell_type": "code",
   "execution_count": 3,
   "metadata": {},
   "outputs": [
    {
     "data": {
      "text/html": [
       "<div>\n",
       "<style scoped>\n",
       "    .dataframe tbody tr th:only-of-type {\n",
       "        vertical-align: middle;\n",
       "    }\n",
       "\n",
       "    .dataframe tbody tr th {\n",
       "        vertical-align: top;\n",
       "    }\n",
       "\n",
       "    .dataframe thead th {\n",
       "        text-align: right;\n",
       "    }\n",
       "</style>\n",
       "<table border=\"1\" class=\"dataframe\">\n",
       "  <thead>\n",
       "    <tr style=\"text-align: right;\">\n",
       "      <th></th>\n",
       "      <th>Number</th>\n",
       "      <th>Sex</th>\n",
       "      <th>%Red Pixel</th>\n",
       "      <th>%Green pixel</th>\n",
       "      <th>%Blue pixel</th>\n",
       "      <th>Hb</th>\n",
       "      <th>Anaemic</th>\n",
       "    </tr>\n",
       "  </thead>\n",
       "  <tbody>\n",
       "    <tr>\n",
       "      <th>0</th>\n",
       "      <td>1</td>\n",
       "      <td>M</td>\n",
       "      <td>43.170845</td>\n",
       "      <td>30.945626</td>\n",
       "      <td>25.921971</td>\n",
       "      <td>6.252659</td>\n",
       "      <td>Yes</td>\n",
       "    </tr>\n",
       "    <tr>\n",
       "      <th>1</th>\n",
       "      <td>2</td>\n",
       "      <td>F</td>\n",
       "      <td>43.163481</td>\n",
       "      <td>30.306974</td>\n",
       "      <td>26.759843</td>\n",
       "      <td>8.578865</td>\n",
       "      <td>Yes</td>\n",
       "    </tr>\n",
       "    <tr>\n",
       "      <th>2</th>\n",
       "      <td>3</td>\n",
       "      <td>F</td>\n",
       "      <td>46.269997</td>\n",
       "      <td>27.315656</td>\n",
       "      <td>26.028556</td>\n",
       "      <td>9.640936</td>\n",
       "      <td>Yes</td>\n",
       "    </tr>\n",
       "    <tr>\n",
       "      <th>3</th>\n",
       "      <td>4</td>\n",
       "      <td>F</td>\n",
       "      <td>45.054787</td>\n",
       "      <td>30.469816</td>\n",
       "      <td>24.460797</td>\n",
       "      <td>4.794217</td>\n",
       "      <td>Yes</td>\n",
       "    </tr>\n",
       "    <tr>\n",
       "      <th>4</th>\n",
       "      <td>5</td>\n",
       "      <td>M</td>\n",
       "      <td>45.061884</td>\n",
       "      <td>31.218572</td>\n",
       "      <td>24.071714</td>\n",
       "      <td>8.865329</td>\n",
       "      <td>Yes</td>\n",
       "    </tr>\n",
       "    <tr>\n",
       "      <th>...</th>\n",
       "      <td>...</td>\n",
       "      <td>...</td>\n",
       "      <td>...</td>\n",
       "      <td>...</td>\n",
       "      <td>...</td>\n",
       "      <td>...</td>\n",
       "      <td>...</td>\n",
       "    </tr>\n",
       "    <tr>\n",
       "      <th>495</th>\n",
       "      <td>496</td>\n",
       "      <td>F</td>\n",
       "      <td>45.749211</td>\n",
       "      <td>27.630846</td>\n",
       "      <td>26.865636</td>\n",
       "      <td>13.760084</td>\n",
       "      <td>No</td>\n",
       "    </tr>\n",
       "    <tr>\n",
       "      <th>496</th>\n",
       "      <td>497</td>\n",
       "      <td>F</td>\n",
       "      <td>44.929398</td>\n",
       "      <td>30.271085</td>\n",
       "      <td>24.501944</td>\n",
       "      <td>11.588917</td>\n",
       "      <td>No</td>\n",
       "    </tr>\n",
       "    <tr>\n",
       "      <th>497</th>\n",
       "      <td>498</td>\n",
       "      <td>F</td>\n",
       "      <td>43.452565</td>\n",
       "      <td>29.784122</td>\n",
       "      <td>26.764283</td>\n",
       "      <td>12.460060</td>\n",
       "      <td>No</td>\n",
       "    </tr>\n",
       "    <tr>\n",
       "      <th>498</th>\n",
       "      <td>499</td>\n",
       "      <td>F</td>\n",
       "      <td>43.224231</td>\n",
       "      <td>29.742489</td>\n",
       "      <td>26.866944</td>\n",
       "      <td>12.074058</td>\n",
       "      <td>No</td>\n",
       "    </tr>\n",
       "    <tr>\n",
       "      <th>499</th>\n",
       "      <td>500</td>\n",
       "      <td>F</td>\n",
       "      <td>47.353782</td>\n",
       "      <td>26.554186</td>\n",
       "      <td>25.501462</td>\n",
       "      <td>15.207297</td>\n",
       "      <td>No</td>\n",
       "    </tr>\n",
       "  </tbody>\n",
       "</table>\n",
       "<p>500 rows × 7 columns</p>\n",
       "</div>"
      ],
      "text/plain": [
       "     Number Sex  %Red Pixel  %Green pixel  %Blue pixel         Hb Anaemic\n",
       "0         1   M   43.170845     30.945626    25.921971   6.252659     Yes\n",
       "1         2   F   43.163481     30.306974    26.759843   8.578865     Yes\n",
       "2         3   F   46.269997     27.315656    26.028556   9.640936     Yes\n",
       "3         4   F   45.054787     30.469816    24.460797   4.794217     Yes\n",
       "4         5  M    45.061884     31.218572    24.071714   8.865329     Yes\n",
       "..      ...  ..         ...           ...          ...        ...     ...\n",
       "495     496   F   45.749211     27.630846    26.865636  13.760084      No\n",
       "496     497   F   44.929398     30.271085    24.501944  11.588917      No\n",
       "497     498  F    43.452565     29.784122    26.764283  12.460060      No\n",
       "498     499   F   43.224231     29.742489    26.866944  12.074058      No\n",
       "499     500  F    47.353782     26.554186    25.501462  15.207297      No\n",
       "\n",
       "[500 rows x 7 columns]"
      ]
     },
     "execution_count": 3,
     "metadata": {},
     "output_type": "execute_result"
    }
   ],
   "source": [
    "Anaemiadata = pd.read_csv(\"d_output.csv\")\n",
    "Anaemiadata"
   ]
  },
  {
   "cell_type": "markdown",
   "metadata": {},
   "source": [
    "Data describtion"
   ]
  },
  {
   "cell_type": "code",
   "execution_count": 4,
   "metadata": {},
   "outputs": [
    {
     "data": {
      "text/html": [
       "<div>\n",
       "<style scoped>\n",
       "    .dataframe tbody tr th:only-of-type {\n",
       "        vertical-align: middle;\n",
       "    }\n",
       "\n",
       "    .dataframe tbody tr th {\n",
       "        vertical-align: top;\n",
       "    }\n",
       "\n",
       "    .dataframe thead th {\n",
       "        text-align: right;\n",
       "    }\n",
       "</style>\n",
       "<table border=\"1\" class=\"dataframe\">\n",
       "  <thead>\n",
       "    <tr style=\"text-align: right;\">\n",
       "      <th></th>\n",
       "      <th>Number</th>\n",
       "      <th>%Red Pixel</th>\n",
       "      <th>%Green pixel</th>\n",
       "      <th>%Blue pixel</th>\n",
       "      <th>Hb</th>\n",
       "    </tr>\n",
       "  </thead>\n",
       "  <tbody>\n",
       "    <tr>\n",
       "      <th>count</th>\n",
       "      <td>500.000000</td>\n",
       "      <td>500.000000</td>\n",
       "      <td>500.000000</td>\n",
       "      <td>500.000000</td>\n",
       "      <td>500.000000</td>\n",
       "    </tr>\n",
       "    <tr>\n",
       "      <th>mean</th>\n",
       "      <td>250.500000</td>\n",
       "      <td>45.030260</td>\n",
       "      <td>29.392138</td>\n",
       "      <td>25.576149</td>\n",
       "      <td>10.938374</td>\n",
       "    </tr>\n",
       "    <tr>\n",
       "      <th>std</th>\n",
       "      <td>144.481833</td>\n",
       "      <td>2.777042</td>\n",
       "      <td>1.585042</td>\n",
       "      <td>1.917043</td>\n",
       "      <td>2.767554</td>\n",
       "    </tr>\n",
       "    <tr>\n",
       "      <th>min</th>\n",
       "      <td>1.000000</td>\n",
       "      <td>38.626133</td>\n",
       "      <td>25.023080</td>\n",
       "      <td>19.495306</td>\n",
       "      <td>4.000000</td>\n",
       "    </tr>\n",
       "    <tr>\n",
       "      <th>25%</th>\n",
       "      <td>125.750000</td>\n",
       "      <td>43.199936</td>\n",
       "      <td>28.311988</td>\n",
       "      <td>24.877544</td>\n",
       "      <td>9.061067</td>\n",
       "    </tr>\n",
       "    <tr>\n",
       "      <th>50%</th>\n",
       "      <td>250.500000</td>\n",
       "      <td>44.906648</td>\n",
       "      <td>29.534431</td>\n",
       "      <td>25.982361</td>\n",
       "      <td>10.018786</td>\n",
       "    </tr>\n",
       "    <tr>\n",
       "      <th>75%</th>\n",
       "      <td>375.250000</td>\n",
       "      <td>46.357891</td>\n",
       "      <td>30.582852</td>\n",
       "      <td>26.754657</td>\n",
       "      <td>13.092756</td>\n",
       "    </tr>\n",
       "    <tr>\n",
       "      <th>max</th>\n",
       "      <td>500.000000</td>\n",
       "      <td>54.776064</td>\n",
       "      <td>32.526455</td>\n",
       "      <td>29.956341</td>\n",
       "      <td>16.508313</td>\n",
       "    </tr>\n",
       "  </tbody>\n",
       "</table>\n",
       "</div>"
      ],
      "text/plain": [
       "           Number  %Red Pixel  %Green pixel  %Blue pixel          Hb\n",
       "count  500.000000  500.000000    500.000000   500.000000  500.000000\n",
       "mean   250.500000   45.030260     29.392138    25.576149   10.938374\n",
       "std    144.481833    2.777042      1.585042     1.917043    2.767554\n",
       "min      1.000000   38.626133     25.023080    19.495306    4.000000\n",
       "25%    125.750000   43.199936     28.311988    24.877544    9.061067\n",
       "50%    250.500000   44.906648     29.534431    25.982361   10.018786\n",
       "75%    375.250000   46.357891     30.582852    26.754657   13.092756\n",
       "max    500.000000   54.776064     32.526455    29.956341   16.508313"
      ]
     },
     "execution_count": 4,
     "metadata": {},
     "output_type": "execute_result"
    }
   ],
   "source": [
    "Anaemiadata.describe()"
   ]
  },
  {
   "cell_type": "markdown",
   "metadata": {},
   "source": [
    "Exploratory data analysis (EDA)"
   ]
  },
  {
   "cell_type": "code",
   "execution_count": 5,
   "metadata": {},
   "outputs": [
    {
     "name": "stdout",
     "output_type": "stream",
     "text": [
      "<class 'pandas.core.frame.DataFrame'>\n",
      "RangeIndex: 500 entries, 0 to 499\n",
      "Data columns (total 7 columns):\n",
      " #   Column        Non-Null Count  Dtype  \n",
      "---  ------        --------------  -----  \n",
      " 0   Number        500 non-null    int64  \n",
      " 1   Sex           500 non-null    object \n",
      " 2   %Red Pixel    500 non-null    float64\n",
      " 3   %Green pixel  500 non-null    float64\n",
      " 4   %Blue pixel   500 non-null    float64\n",
      " 5   Hb            500 non-null    float64\n",
      " 6   Anaemic       500 non-null    object \n",
      "dtypes: float64(4), int64(1), object(2)\n",
      "memory usage: 27.5+ KB\n"
     ]
    }
   ],
   "source": [
    "Anaemiadata.info()"
   ]
  },
  {
   "cell_type": "code",
   "execution_count": 6,
   "metadata": {},
   "outputs": [
    {
     "data": {
      "text/plain": [
       "Number          0\n",
       "Sex             0\n",
       "%Red Pixel      0\n",
       "%Green pixel    0\n",
       "%Blue pixel     0\n",
       "Hb              0\n",
       "Anaemic         0\n",
       "dtype: int64"
      ]
     },
     "execution_count": 6,
     "metadata": {},
     "output_type": "execute_result"
    }
   ],
   "source": [
    "# checking null values\n",
    "Anaemiadata.isna().sum()"
   ]
  },
  {
   "cell_type": "code",
   "execution_count": 7,
   "metadata": {},
   "outputs": [],
   "source": [
    "cols_to_rename = {\n",
    "    \"%Red Pixel\" : 'red pixel',\n",
    "    \"%Green pixel\" : \"green pixel\",\n",
    "    \"%Blue pixel\" : 'blue pixel'\n",
    "}\n",
    "Anaemiadata.rename(columns=cols_to_rename , inplace=True)"
   ]
  },
  {
   "cell_type": "code",
   "execution_count": 8,
   "metadata": {},
   "outputs": [],
   "source": [
    "Anaemiadata.columns = map(str.lower , Anaemiadata.columns)"
   ]
  },
  {
   "cell_type": "code",
   "execution_count": 9,
   "metadata": {},
   "outputs": [
    {
     "data": {
      "text/plain": [
       "0"
      ]
     },
     "execution_count": 9,
     "metadata": {},
     "output_type": "execute_result"
    }
   ],
   "source": [
    "Anaemiadata.duplicated().sum()"
   ]
  },
  {
   "cell_type": "markdown",
   "metadata": {},
   "source": [
    "Top and bottom 10 records"
   ]
  },
  {
   "cell_type": "code",
   "execution_count": 10,
   "metadata": {},
   "outputs": [
    {
     "data": {
      "text/html": [
       "<div>\n",
       "<style scoped>\n",
       "    .dataframe tbody tr th:only-of-type {\n",
       "        vertical-align: middle;\n",
       "    }\n",
       "\n",
       "    .dataframe tbody tr th {\n",
       "        vertical-align: top;\n",
       "    }\n",
       "\n",
       "    .dataframe thead th {\n",
       "        text-align: right;\n",
       "    }\n",
       "</style>\n",
       "<table border=\"1\" class=\"dataframe\">\n",
       "  <thead>\n",
       "    <tr style=\"text-align: right;\">\n",
       "      <th></th>\n",
       "      <th>number</th>\n",
       "      <th>sex</th>\n",
       "      <th>red pixel</th>\n",
       "      <th>green pixel</th>\n",
       "      <th>blue pixel</th>\n",
       "      <th>hb</th>\n",
       "      <th>anaemic</th>\n",
       "    </tr>\n",
       "  </thead>\n",
       "  <tbody>\n",
       "    <tr>\n",
       "      <th>0</th>\n",
       "      <td>1</td>\n",
       "      <td>M</td>\n",
       "      <td>43.170845</td>\n",
       "      <td>30.945626</td>\n",
       "      <td>25.921971</td>\n",
       "      <td>6.252659</td>\n",
       "      <td>Yes</td>\n",
       "    </tr>\n",
       "    <tr>\n",
       "      <th>1</th>\n",
       "      <td>2</td>\n",
       "      <td>F</td>\n",
       "      <td>43.163481</td>\n",
       "      <td>30.306974</td>\n",
       "      <td>26.759843</td>\n",
       "      <td>8.578865</td>\n",
       "      <td>Yes</td>\n",
       "    </tr>\n",
       "    <tr>\n",
       "      <th>2</th>\n",
       "      <td>3</td>\n",
       "      <td>F</td>\n",
       "      <td>46.269997</td>\n",
       "      <td>27.315656</td>\n",
       "      <td>26.028556</td>\n",
       "      <td>9.640936</td>\n",
       "      <td>Yes</td>\n",
       "    </tr>\n",
       "    <tr>\n",
       "      <th>3</th>\n",
       "      <td>4</td>\n",
       "      <td>F</td>\n",
       "      <td>45.054787</td>\n",
       "      <td>30.469816</td>\n",
       "      <td>24.460797</td>\n",
       "      <td>4.794217</td>\n",
       "      <td>Yes</td>\n",
       "    </tr>\n",
       "    <tr>\n",
       "      <th>4</th>\n",
       "      <td>5</td>\n",
       "      <td>M</td>\n",
       "      <td>45.061884</td>\n",
       "      <td>31.218572</td>\n",
       "      <td>24.071714</td>\n",
       "      <td>8.865329</td>\n",
       "      <td>Yes</td>\n",
       "    </tr>\n",
       "    <tr>\n",
       "      <th>5</th>\n",
       "      <td>6</td>\n",
       "      <td>F</td>\n",
       "      <td>42.650694</td>\n",
       "      <td>30.102835</td>\n",
       "      <td>27.364009</td>\n",
       "      <td>9.900000</td>\n",
       "      <td>Yes</td>\n",
       "    </tr>\n",
       "    <tr>\n",
       "      <th>6</th>\n",
       "      <td>7</td>\n",
       "      <td>F</td>\n",
       "      <td>44.073986</td>\n",
       "      <td>29.946709</td>\n",
       "      <td>25.992890</td>\n",
       "      <td>8.344133</td>\n",
       "      <td>Yes</td>\n",
       "    </tr>\n",
       "    <tr>\n",
       "      <th>7</th>\n",
       "      <td>8</td>\n",
       "      <td>F</td>\n",
       "      <td>41.034469</td>\n",
       "      <td>31.856075</td>\n",
       "      <td>27.238625</td>\n",
       "      <td>9.764485</td>\n",
       "      <td>Yes</td>\n",
       "    </tr>\n",
       "    <tr>\n",
       "      <th>8</th>\n",
       "      <td>9</td>\n",
       "      <td>M</td>\n",
       "      <td>45.800995</td>\n",
       "      <td>30.085051</td>\n",
       "      <td>24.230831</td>\n",
       "      <td>9.105038</td>\n",
       "      <td>Yes</td>\n",
       "    </tr>\n",
       "    <tr>\n",
       "      <th>9</th>\n",
       "      <td>10</td>\n",
       "      <td>M</td>\n",
       "      <td>40.581274</td>\n",
       "      <td>32.043280</td>\n",
       "      <td>27.256172</td>\n",
       "      <td>4.091686</td>\n",
       "      <td>Yes</td>\n",
       "    </tr>\n",
       "  </tbody>\n",
       "</table>\n",
       "</div>"
      ],
      "text/plain": [
       "   number sex  red pixel  green pixel  blue pixel        hb anaemic\n",
       "0       1   M  43.170845    30.945626   25.921971  6.252659     Yes\n",
       "1       2   F  43.163481    30.306974   26.759843  8.578865     Yes\n",
       "2       3   F  46.269997    27.315656   26.028556  9.640936     Yes\n",
       "3       4   F  45.054787    30.469816   24.460797  4.794217     Yes\n",
       "4       5  M   45.061884    31.218572   24.071714  8.865329     Yes\n",
       "5       6   F  42.650694    30.102835   27.364009  9.900000     Yes\n",
       "6       7   F  44.073986    29.946709   25.992890  8.344133     Yes\n",
       "7       8  F   41.034469    31.856075   27.238625  9.764485     Yes\n",
       "8       9   M  45.800995    30.085051   24.230831  9.105038     Yes\n",
       "9      10  M   40.581274    32.043280   27.256172  4.091686     Yes"
      ]
     },
     "execution_count": 10,
     "metadata": {},
     "output_type": "execute_result"
    }
   ],
   "source": [
    "Anaemiadata.head(10)"
   ]
  },
  {
   "cell_type": "code",
   "execution_count": 11,
   "metadata": {},
   "outputs": [
    {
     "data": {
      "text/html": [
       "<div>\n",
       "<style scoped>\n",
       "    .dataframe tbody tr th:only-of-type {\n",
       "        vertical-align: middle;\n",
       "    }\n",
       "\n",
       "    .dataframe tbody tr th {\n",
       "        vertical-align: top;\n",
       "    }\n",
       "\n",
       "    .dataframe thead th {\n",
       "        text-align: right;\n",
       "    }\n",
       "</style>\n",
       "<table border=\"1\" class=\"dataframe\">\n",
       "  <thead>\n",
       "    <tr style=\"text-align: right;\">\n",
       "      <th></th>\n",
       "      <th>number</th>\n",
       "      <th>sex</th>\n",
       "      <th>red pixel</th>\n",
       "      <th>green pixel</th>\n",
       "      <th>blue pixel</th>\n",
       "      <th>hb</th>\n",
       "      <th>anaemic</th>\n",
       "    </tr>\n",
       "  </thead>\n",
       "  <tbody>\n",
       "    <tr>\n",
       "      <th>490</th>\n",
       "      <td>491</td>\n",
       "      <td>F</td>\n",
       "      <td>44.890023</td>\n",
       "      <td>29.126156</td>\n",
       "      <td>25.928096</td>\n",
       "      <td>12.939286</td>\n",
       "      <td>No</td>\n",
       "    </tr>\n",
       "    <tr>\n",
       "      <th>491</th>\n",
       "      <td>492</td>\n",
       "      <td>F</td>\n",
       "      <td>45.366383</td>\n",
       "      <td>29.150499</td>\n",
       "      <td>25.742759</td>\n",
       "      <td>12.564716</td>\n",
       "      <td>No</td>\n",
       "    </tr>\n",
       "    <tr>\n",
       "      <th>492</th>\n",
       "      <td>493</td>\n",
       "      <td>F</td>\n",
       "      <td>44.440257</td>\n",
       "      <td>28.830038</td>\n",
       "      <td>26.614021</td>\n",
       "      <td>15.506987</td>\n",
       "      <td>No</td>\n",
       "    </tr>\n",
       "    <tr>\n",
       "      <th>493</th>\n",
       "      <td>494</td>\n",
       "      <td>M</td>\n",
       "      <td>46.925620</td>\n",
       "      <td>25.979260</td>\n",
       "      <td>26.976566</td>\n",
       "      <td>14.701059</td>\n",
       "      <td>No</td>\n",
       "    </tr>\n",
       "    <tr>\n",
       "      <th>494</th>\n",
       "      <td>495</td>\n",
       "      <td>M</td>\n",
       "      <td>45.581028</td>\n",
       "      <td>28.731796</td>\n",
       "      <td>25.668721</td>\n",
       "      <td>14.195731</td>\n",
       "      <td>No</td>\n",
       "    </tr>\n",
       "    <tr>\n",
       "      <th>495</th>\n",
       "      <td>496</td>\n",
       "      <td>F</td>\n",
       "      <td>45.749211</td>\n",
       "      <td>27.630846</td>\n",
       "      <td>26.865636</td>\n",
       "      <td>13.760084</td>\n",
       "      <td>No</td>\n",
       "    </tr>\n",
       "    <tr>\n",
       "      <th>496</th>\n",
       "      <td>497</td>\n",
       "      <td>F</td>\n",
       "      <td>44.929398</td>\n",
       "      <td>30.271085</td>\n",
       "      <td>24.501944</td>\n",
       "      <td>11.588917</td>\n",
       "      <td>No</td>\n",
       "    </tr>\n",
       "    <tr>\n",
       "      <th>497</th>\n",
       "      <td>498</td>\n",
       "      <td>F</td>\n",
       "      <td>43.452565</td>\n",
       "      <td>29.784122</td>\n",
       "      <td>26.764283</td>\n",
       "      <td>12.460060</td>\n",
       "      <td>No</td>\n",
       "    </tr>\n",
       "    <tr>\n",
       "      <th>498</th>\n",
       "      <td>499</td>\n",
       "      <td>F</td>\n",
       "      <td>43.224231</td>\n",
       "      <td>29.742489</td>\n",
       "      <td>26.866944</td>\n",
       "      <td>12.074058</td>\n",
       "      <td>No</td>\n",
       "    </tr>\n",
       "    <tr>\n",
       "      <th>499</th>\n",
       "      <td>500</td>\n",
       "      <td>F</td>\n",
       "      <td>47.353782</td>\n",
       "      <td>26.554186</td>\n",
       "      <td>25.501462</td>\n",
       "      <td>15.207297</td>\n",
       "      <td>No</td>\n",
       "    </tr>\n",
       "  </tbody>\n",
       "</table>\n",
       "</div>"
      ],
      "text/plain": [
       "     number sex  red pixel  green pixel  blue pixel         hb anaemic\n",
       "490     491   F  44.890023    29.126156   25.928096  12.939286      No\n",
       "491     492   F  45.366383    29.150499   25.742759  12.564716      No\n",
       "492     493   F  44.440257    28.830038   26.614021  15.506987      No\n",
       "493     494  M   46.925620    25.979260   26.976566  14.701059      No\n",
       "494     495   M  45.581028    28.731796   25.668721  14.195731      No\n",
       "495     496   F  45.749211    27.630846   26.865636  13.760084      No\n",
       "496     497   F  44.929398    30.271085   24.501944  11.588917      No\n",
       "497     498  F   43.452565    29.784122   26.764283  12.460060      No\n",
       "498     499   F  43.224231    29.742489   26.866944  12.074058      No\n",
       "499     500  F   47.353782    26.554186   25.501462  15.207297      No"
      ]
     },
     "execution_count": 11,
     "metadata": {},
     "output_type": "execute_result"
    }
   ],
   "source": [
    "Anaemiadata.tail(10)"
   ]
  },
  {
   "cell_type": "code",
   "execution_count": 12,
   "metadata": {},
   "outputs": [],
   "source": [
    "Anaemiadata.drop(\"number\" , axis=1 , inplace= True)"
   ]
  },
  {
   "cell_type": "code",
   "execution_count": 13,
   "metadata": {},
   "outputs": [
    {
     "data": {
      "text/plain": [
       "(500, 6)"
      ]
     },
     "execution_count": 13,
     "metadata": {},
     "output_type": "execute_result"
    }
   ],
   "source": [
    "Anaemiadata.shape"
   ]
  },
  {
   "cell_type": "code",
   "execution_count": 14,
   "metadata": {},
   "outputs": [
    {
     "data": {
      "text/plain": [
       "sex\n",
       "F     152\n",
       "M     135\n",
       "F     119\n",
       "M      94\n",
       "Name: count, dtype: int64"
      ]
     },
     "execution_count": 14,
     "metadata": {},
     "output_type": "execute_result"
    }
   ],
   "source": [
    "Anaemiadata.sex.value_counts()"
   ]
  },
  {
   "cell_type": "code",
   "execution_count": 15,
   "metadata": {},
   "outputs": [],
   "source": [
    "Anaemiadata[\"sex\"] = Anaemiadata[\"sex\"].replace(['M' , 'F'] , ['M' , 'F'])"
   ]
  },
  {
   "cell_type": "code",
   "execution_count": 16,
   "metadata": {},
   "outputs": [
    {
     "data": {
      "text/plain": [
       "anaemic\n",
       "Yes    250\n",
       "No     250\n",
       "Name: count, dtype: int64"
      ]
     },
     "execution_count": 16,
     "metadata": {},
     "output_type": "execute_result"
    }
   ],
   "source": [
    "Anaemiadata.anaemic.value_counts()"
   ]
  },
  {
   "cell_type": "code",
   "execution_count": 17,
   "metadata": {},
   "outputs": [
    {
     "data": {
      "text/html": [
       "<div>\n",
       "<style scoped>\n",
       "    .dataframe tbody tr th:only-of-type {\n",
       "        vertical-align: middle;\n",
       "    }\n",
       "\n",
       "    .dataframe tbody tr th {\n",
       "        vertical-align: top;\n",
       "    }\n",
       "\n",
       "    .dataframe thead th {\n",
       "        text-align: right;\n",
       "    }\n",
       "</style>\n",
       "<table border=\"1\" class=\"dataframe\">\n",
       "  <thead>\n",
       "    <tr style=\"text-align: right;\">\n",
       "      <th></th>\n",
       "      <th>count</th>\n",
       "      <th>mean</th>\n",
       "      <th>std</th>\n",
       "      <th>min</th>\n",
       "      <th>25%</th>\n",
       "      <th>50%</th>\n",
       "      <th>75%</th>\n",
       "      <th>max</th>\n",
       "    </tr>\n",
       "  </thead>\n",
       "  <tbody>\n",
       "    <tr>\n",
       "      <th>red pixel</th>\n",
       "      <td>500.0</td>\n",
       "      <td>45.030260</td>\n",
       "      <td>2.777042</td>\n",
       "      <td>38.626133</td>\n",
       "      <td>43.199936</td>\n",
       "      <td>44.906648</td>\n",
       "      <td>46.357891</td>\n",
       "      <td>54.776064</td>\n",
       "    </tr>\n",
       "    <tr>\n",
       "      <th>green pixel</th>\n",
       "      <td>500.0</td>\n",
       "      <td>29.392138</td>\n",
       "      <td>1.585042</td>\n",
       "      <td>25.023080</td>\n",
       "      <td>28.311988</td>\n",
       "      <td>29.534431</td>\n",
       "      <td>30.582852</td>\n",
       "      <td>32.526455</td>\n",
       "    </tr>\n",
       "    <tr>\n",
       "      <th>blue pixel</th>\n",
       "      <td>500.0</td>\n",
       "      <td>25.576149</td>\n",
       "      <td>1.917043</td>\n",
       "      <td>19.495306</td>\n",
       "      <td>24.877544</td>\n",
       "      <td>25.982361</td>\n",
       "      <td>26.754657</td>\n",
       "      <td>29.956341</td>\n",
       "    </tr>\n",
       "    <tr>\n",
       "      <th>hb</th>\n",
       "      <td>500.0</td>\n",
       "      <td>10.938374</td>\n",
       "      <td>2.767554</td>\n",
       "      <td>4.000000</td>\n",
       "      <td>9.061067</td>\n",
       "      <td>10.018786</td>\n",
       "      <td>13.092756</td>\n",
       "      <td>16.508313</td>\n",
       "    </tr>\n",
       "  </tbody>\n",
       "</table>\n",
       "</div>"
      ],
      "text/plain": [
       "             count       mean       std        min        25%        50%  \\\n",
       "red pixel    500.0  45.030260  2.777042  38.626133  43.199936  44.906648   \n",
       "green pixel  500.0  29.392138  1.585042  25.023080  28.311988  29.534431   \n",
       "blue pixel   500.0  25.576149  1.917043  19.495306  24.877544  25.982361   \n",
       "hb           500.0  10.938374  2.767554   4.000000   9.061067  10.018786   \n",
       "\n",
       "                   75%        max  \n",
       "red pixel    46.357891  54.776064  \n",
       "green pixel  30.582852  32.526455  \n",
       "blue pixel   26.754657  29.956341  \n",
       "hb           13.092756  16.508313  "
      ]
     },
     "execution_count": 17,
     "metadata": {},
     "output_type": "execute_result"
    }
   ],
   "source": [
    "Anaemiadata.describe().T"
   ]
  },
  {
   "cell_type": "code",
   "execution_count": 18,
   "metadata": {},
   "outputs": [
    {
     "data": {
      "image/png": "[encoded data removed]",
      "text/plain": [
       "<Figure size 640x480 with 4 Axes>"
      ]
     },
     "metadata": {},
     "output_type": "display_data"
    }
   ],
   "source": [
    "viz = Anaemiadata[[\"red pixel\",\"green pixel\",\"blue pixel\"]]\n",
    "viz.hist()\n",
    "plt.show()"
   ]
  },
  {
   "cell_type": "code",
   "execution_count": 19,
   "metadata": {},
   "outputs": [
    {
     "data": {
      "image/png": "[encoded data removed]",
      "text/plain": [
       "<Figure size 580x500 with 1 Axes>"
      ]
     },
     "metadata": {},
     "output_type": "display_data"
    }
   ],
   "source": [
    "sns.set(style = \"darkgrid\" , palette = \"Set2\")\n",
    "sns.displot(Anaemiadata , x = \"anaemic\" , hue=\"anaemic\")\n",
    "plt.title(\"Anaemic data distributaion\" , fontsize = 15)\n",
    "plt.show()"
   ]
  },
  {
   "cell_type": "code",
   "execution_count": 20,
   "metadata": {},
   "outputs": [
    {
     "data": {
      "image/png": "[encoded data removed]",
      "text/plain": [
       "<Figure size 571.875x500 with 1 Axes>"
      ]
     },
     "metadata": {},
     "output_type": "display_data"
    }
   ],
   "source": [
    "sns.set(style = \"darkgrid\" , palette = \"Set2\")\n",
    "sns.displot(Anaemiadata , x = \"sex\" , hue=\"sex\")\n",
    "plt.title(\"Sex data distributaion\" , fontsize = 15)\n",
    "plt.show()"
   ]
  },
  {
   "cell_type": "code",
   "execution_count": 24,
   "metadata": {},
   "outputs": [
    {
     "data": {
      "image/png": "[encoded data removed]",
      "text/plain": [
       "<Figure size 580x500 with 1 Axes>"
      ]
     },
     "metadata": {},
     "output_type": "display_data"
    }
   ],
   "source": [
    "sns.set(style = \"darkgrid\" , palette = \"Set2\")\n",
    "sns.displot(Anaemiadata , x = \"sex\" , hue=\"anaemic\")\n",
    "plt.title(\"Anaemic data distributaion by sex\" , fontsize = 15)\n",
    "plt.show()"
   ]
  },
  {
   "cell_type": "code",
   "execution_count": null,
   "metadata": {},
   "outputs": [],
   "source": []
  }
 ],
 "metadata": {
  "kernelspec": {
   "display_name": "Python 3.8.6 64-bit",
   "language": "python",
   "name": "python3"
  },
  "language_info": {
   "codemirror_mode": {
    "name": "ipython",
    "version": 3
   },
   "file_extension": ".py",
   "mimetype": "text/x-python",
   "name": "python",
   "nbconvert_exporter": "python",
   "pygments_lexer": "ipython3",
   "version": "3.8.6"
  },
  "orig_nbformat": 4,
  "vscode": {
   "interpreter": {
    "hash": "e5132afa089ff480c36f37da0fd92867df69d6504d0ef26f46569b413d858b41"
   }
  }
 },
 "nbformat": 4,
 "nbformat_minor": 2
}
